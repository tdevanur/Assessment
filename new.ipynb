{
 "cells": [
  {
   "cell_type": "code",
   "execution_count": 85,
   "id": "9b486a2a",
   "metadata": {},
   "outputs": [],
   "source": [
    "import pandas as pd\n",
    "import numpy as np\n",
    "import matplotlib.pyplot as plt\n",
    "import seaborn as sb\n",
    "import sys\n",
    "import sweetviz as sv\n",
    "import sklearn"
   ]
  },
  {
   "cell_type": "code",
   "execution_count": 86,
   "id": "7f1a0d8f",
   "metadata": {},
   "outputs": [
    {
     "name": "stdout",
     "output_type": "stream",
     "text": [
      "Requirement already satisfied: sklearn in c:\\users\\tdevanur\\anaconda3\\lib\\site-packages (0.0)\n",
      "Requirement already satisfied: scikit-learn in c:\\users\\tdevanur\\anaconda3\\lib\\site-packages (from sklearn) (0.24.2)\n",
      "Requirement already satisfied: numpy>=1.13.3 in c:\\users\\tdevanur\\anaconda3\\lib\\site-packages (from scikit-learn->sklearn) (1.20.3)\n",
      "Requirement already satisfied: joblib>=0.11 in c:\\users\\tdevanur\\anaconda3\\lib\\site-packages (from scikit-learn->sklearn) (1.1.0)\n",
      "Requirement already satisfied: scipy>=0.19.1 in c:\\users\\tdevanur\\anaconda3\\lib\\site-packages (from scikit-learn->sklearn) (1.7.1)\n",
      "Requirement already satisfied: threadpoolctl>=2.0.0 in c:\\users\\tdevanur\\anaconda3\\lib\\site-packages (from scikit-learn->sklearn) (2.2.0)\n"
     ]
    }
   ],
   "source": [
    "!{sys.executable} -m pip install sklearn"
   ]
  },
  {
   "cell_type": "code",
   "execution_count": 123,
   "id": "c575352f",
   "metadata": {},
   "outputs": [],
   "source": [
    "# Import data from csv\n",
    "train_data = pd.read_csv(\"train.csv\")\n",
    "test_data = pd.read_csv(\"test.csv\")\n",
    "\n",
    "all_data = pd.concat([train_data,test_data],axis=0)\n",
    "original_data = all_data.copy()"
   ]
  },
  {
   "cell_type": "code",
   "execution_count": 124,
   "id": "53ddf9ef",
   "metadata": {},
   "outputs": [
    {
     "data": {
      "text/plain": [
       "Id                  0\n",
       "MSSubClass          0\n",
       "LotFrontage       486\n",
       "LotArea             0\n",
       "OverallQual         0\n",
       "OverallCond         0\n",
       "YearBuilt           0\n",
       "YearRemodAdd        0\n",
       "MasVnrArea         23\n",
       "BsmtFinSF1          1\n",
       "BsmtFinSF2          1\n",
       "BsmtUnfSF           1\n",
       "TotalBsmtSF         1\n",
       "1stFlrSF            0\n",
       "2ndFlrSF            0\n",
       "LowQualFinSF        0\n",
       "GrLivArea           0\n",
       "BsmtFullBath        2\n",
       "BsmtHalfBath        2\n",
       "FullBath            0\n",
       "HalfBath            0\n",
       "BedroomAbvGr        0\n",
       "KitchenAbvGr        0\n",
       "TotRmsAbvGrd        0\n",
       "Fireplaces          0\n",
       "GarageYrBlt       159\n",
       "GarageCars          1\n",
       "GarageArea          1\n",
       "WoodDeckSF          0\n",
       "OpenPorchSF         0\n",
       "EnclosedPorch       0\n",
       "3SsnPorch           0\n",
       "ScreenPorch         0\n",
       "PoolArea            0\n",
       "MiscVal             0\n",
       "MoSold              0\n",
       "YrSold              0\n",
       "SalePrice        1459\n",
       "dtype: int64"
      ]
     },
     "metadata": {},
     "output_type": "display_data"
    },
    {
     "data": {
      "text/plain": [
       "MSZoning            4\n",
       "Street              0\n",
       "Alley            2721\n",
       "LotShape            0\n",
       "LandContour         0\n",
       "Utilities           2\n",
       "LotConfig           0\n",
       "LandSlope           0\n",
       "Neighborhood        0\n",
       "Condition1          0\n",
       "Condition2          0\n",
       "BldgType            0\n",
       "HouseStyle          0\n",
       "RoofStyle           0\n",
       "RoofMatl            0\n",
       "Exterior1st         1\n",
       "Exterior2nd         1\n",
       "MasVnrType         24\n",
       "ExterQual           0\n",
       "ExterCond           0\n",
       "Foundation          0\n",
       "BsmtQual           81\n",
       "BsmtCond           82\n",
       "BsmtExposure       82\n",
       "BsmtFinType1       79\n",
       "BsmtFinType2       80\n",
       "Heating             0\n",
       "HeatingQC           0\n",
       "CentralAir          0\n",
       "Electrical          1\n",
       "KitchenQual         1\n",
       "Functional          2\n",
       "FireplaceQu      1420\n",
       "GarageType        157\n",
       "GarageFinish      159\n",
       "GarageQual        159\n",
       "GarageCond        159\n",
       "PavedDrive          0\n",
       "PoolQC           2909\n",
       "Fence            2348\n",
       "MiscFeature      2814\n",
       "SaleType            1\n",
       "SaleCondition       0\n",
       "dtype: int64"
      ]
     },
     "metadata": {},
     "output_type": "display_data"
    }
   ],
   "source": [
    "# Missing numerical data\n",
    "display(all_data.select_dtypes(exclude=['object']).isnull().sum())\n",
    "\n",
    "# Missing categorical data\n",
    "display(all_data.select_dtypes(include=['object']).isnull().sum())"
   ]
  },
  {
   "cell_type": "code",
   "execution_count": 125,
   "id": "aaa61e4a",
   "metadata": {},
   "outputs": [],
   "source": [
    "corr = train_data.corr()"
   ]
  },
  {
   "cell_type": "code",
   "execution_count": 126,
   "id": "2db92403",
   "metadata": {},
   "outputs": [
    {
     "data": {
      "text/plain": [
       "234       NaN\n",
       "529       NaN\n",
       "650       NaN\n",
       "936       NaN\n",
       "973       NaN\n",
       "977       NaN\n",
       "1243      NaN\n",
       "1278      NaN\n",
       "231       NaN\n",
       "246       NaN\n",
       "422       NaN\n",
       "532       NaN\n",
       "544       NaN\n",
       "581       NaN\n",
       "851       NaN\n",
       "865       NaN\n",
       "880       NaN\n",
       "889       NaN\n",
       "908       NaN\n",
       "1132      NaN\n",
       "1150    198.0\n",
       "1197      NaN\n",
       "1226      NaN\n",
       "1402      NaN\n",
       "Name: MasVnrArea, dtype: float64"
      ]
     },
     "metadata": {},
     "output_type": "display_data"
    }
   ],
   "source": [
    "# MasVnrArea null values\n",
    "\n",
    "MVA_null = all_data[all_data['MasVnrArea'].isnull()]\n",
    "MVT_null = all_data[all_data['MasVnrType'].isnull()]\n",
    "\n",
    "# 23 out of 24 MasVnrType null values correspond to MasVnrArea null values\n",
    "display(MVT_null[\"MasVnrArea\"])"
   ]
  },
  {
   "cell_type": "code",
   "execution_count": 127,
   "id": "336d8129",
   "metadata": {},
   "outputs": [
    {
     "data": {
      "text/plain": [
       "1150    2611\n",
       "Name: Id, dtype: int64"
      ]
     },
     "metadata": {},
     "output_type": "display_data"
    }
   ],
   "source": [
    "# get ID for mismatched row\n",
    "display(MVT_null[MVT_null[\"MasVnrArea\"].isnull() == False][\"Id\"])"
   ]
  },
  {
   "cell_type": "code",
   "execution_count": 128,
   "id": "7d0b097d",
   "metadata": {},
   "outputs": [
    {
     "data": {
      "text/plain": [
       "0.0      1735\n",
       "1.0         3\n",
       "288.0       1\n",
       "344.0       1\n",
       "312.0       1\n",
       "285.0       1\n",
       "Name: MasVnrArea, dtype: int64"
      ]
     },
     "execution_count": 128,
     "metadata": {},
     "output_type": "execute_result"
    }
   ],
   "source": [
    "# change MasVnrType for entry 2611 to second most frequent, as mode is \"None\"\n",
    "MVT_mode = all_data[all_data[\"MasVnrType\"] != \"None\"][\"MasVnrType\"].mode()[0]\n",
    "all_data.loc[(all_data[\"Id\"] == 2611),'MasVnrType'] = MVT_mode\n",
    "\n",
    "# examine MasVnrArea values for houses with MasVnrType \"None\"\n",
    "\n",
    "all_data[all_data['MasVnrType'] == \"None\"][\"MasVnrArea\"].value_counts()\n",
    "\n"
   ]
  },
  {
   "cell_type": "code",
   "execution_count": 129,
   "id": "7dda1b8f",
   "metadata": {},
   "outputs": [],
   "source": [
    "# Most are zero as expected, but there are some nonzero values. \n",
    "all_data[(all_data['MasVnrType'] == \"None\") & (all_data[\"MasVnrArea\"] != 0)]\n",
    "\n",
    "# Replace MasVnrType to second most frequent\n",
    "all_data.loc[((all_data['MasVnrType'] == \"None\") & (all_data[\"MasVnrArea\"] != 0)),'MasVnrType'] = MVT_mode"
   ]
  },
  {
   "cell_type": "code",
   "execution_count": 130,
   "id": "ac6fbd69",
   "metadata": {},
   "outputs": [],
   "source": [
    "# Set null MasVnrType to \"None\" and corresponding MasVnrArea to 0\n",
    "all_data[\"MasVnrType\"].fillna(\"None\", inplace = True)\n",
    "all_data[\"MasVnrArea\"].fillna(0, inplace = True)"
   ]
  },
  {
   "cell_type": "code",
   "execution_count": 131,
   "id": "417f7160",
   "metadata": {},
   "outputs": [
    {
     "data": {
      "text/plain": [
       "Id                  0\n",
       "MSSubClass          0\n",
       "LotFrontage       486\n",
       "LotArea             0\n",
       "OverallQual         0\n",
       "OverallCond         0\n",
       "YearBuilt           0\n",
       "YearRemodAdd        0\n",
       "MasVnrArea          0\n",
       "BsmtFinSF1          1\n",
       "BsmtFinSF2          1\n",
       "BsmtUnfSF           1\n",
       "TotalBsmtSF         1\n",
       "1stFlrSF            0\n",
       "2ndFlrSF            0\n",
       "LowQualFinSF        0\n",
       "GrLivArea           0\n",
       "BsmtFullBath        2\n",
       "BsmtHalfBath        2\n",
       "FullBath            0\n",
       "HalfBath            0\n",
       "BedroomAbvGr        0\n",
       "KitchenAbvGr        0\n",
       "TotRmsAbvGrd        0\n",
       "Fireplaces          0\n",
       "GarageYrBlt       159\n",
       "GarageCars          1\n",
       "GarageArea          1\n",
       "WoodDeckSF          0\n",
       "OpenPorchSF         0\n",
       "EnclosedPorch       0\n",
       "3SsnPorch           0\n",
       "ScreenPorch         0\n",
       "PoolArea            0\n",
       "MiscVal             0\n",
       "MoSold              0\n",
       "YrSold              0\n",
       "SalePrice        1459\n",
       "dtype: int64"
      ]
     },
     "metadata": {},
     "output_type": "display_data"
    },
    {
     "data": {
      "text/plain": [
       "MSZoning            4\n",
       "Street              0\n",
       "Alley            2721\n",
       "LotShape            0\n",
       "LandContour         0\n",
       "Utilities           2\n",
       "LotConfig           0\n",
       "LandSlope           0\n",
       "Neighborhood        0\n",
       "Condition1          0\n",
       "Condition2          0\n",
       "BldgType            0\n",
       "HouseStyle          0\n",
       "RoofStyle           0\n",
       "RoofMatl            0\n",
       "Exterior1st         1\n",
       "Exterior2nd         1\n",
       "MasVnrType          0\n",
       "ExterQual           0\n",
       "ExterCond           0\n",
       "Foundation          0\n",
       "BsmtQual           81\n",
       "BsmtCond           82\n",
       "BsmtExposure       82\n",
       "BsmtFinType1       79\n",
       "BsmtFinType2       80\n",
       "Heating             0\n",
       "HeatingQC           0\n",
       "CentralAir          0\n",
       "Electrical          1\n",
       "KitchenQual         1\n",
       "Functional          2\n",
       "FireplaceQu      1420\n",
       "GarageType        157\n",
       "GarageFinish      159\n",
       "GarageQual        159\n",
       "GarageCond        159\n",
       "PavedDrive          0\n",
       "PoolQC           2909\n",
       "Fence            2348\n",
       "MiscFeature      2814\n",
       "SaleType            1\n",
       "SaleCondition       0\n",
       "dtype: int64"
      ]
     },
     "metadata": {},
     "output_type": "display_data"
    }
   ],
   "source": [
    "# Missing numerical data\n",
    "display(all_data.select_dtypes(exclude=['object']).isnull().sum())\n",
    "\n",
    "# Missing categorical data\n",
    "display(all_data.select_dtypes(include=['object']).isnull().sum())"
   ]
  },
  {
   "cell_type": "code",
   "execution_count": 132,
   "id": "6124bb93",
   "metadata": {},
   "outputs": [
    {
     "data": {
      "text/html": [
       "<div>\n",
       "<style scoped>\n",
       "    .dataframe tbody tr th:only-of-type {\n",
       "        vertical-align: middle;\n",
       "    }\n",
       "\n",
       "    .dataframe tbody tr th {\n",
       "        vertical-align: top;\n",
       "    }\n",
       "\n",
       "    .dataframe thead th {\n",
       "        text-align: right;\n",
       "    }\n",
       "</style>\n",
       "<table border=\"1\" class=\"dataframe\">\n",
       "  <thead>\n",
       "    <tr style=\"text-align: right;\">\n",
       "      <th></th>\n",
       "      <th>Id</th>\n",
       "      <th>MSSubClass</th>\n",
       "      <th>MSZoning</th>\n",
       "      <th>LotFrontage</th>\n",
       "      <th>LotArea</th>\n",
       "      <th>Street</th>\n",
       "      <th>Alley</th>\n",
       "      <th>LotShape</th>\n",
       "      <th>LandContour</th>\n",
       "      <th>Utilities</th>\n",
       "      <th>...</th>\n",
       "      <th>PoolArea</th>\n",
       "      <th>PoolQC</th>\n",
       "      <th>Fence</th>\n",
       "      <th>MiscFeature</th>\n",
       "      <th>MiscVal</th>\n",
       "      <th>MoSold</th>\n",
       "      <th>YrSold</th>\n",
       "      <th>SaleType</th>\n",
       "      <th>SaleCondition</th>\n",
       "      <th>SalePrice</th>\n",
       "    </tr>\n",
       "  </thead>\n",
       "  <tbody>\n",
       "    <tr>\n",
       "      <th>39</th>\n",
       "      <td>40</td>\n",
       "      <td>90</td>\n",
       "      <td>RL</td>\n",
       "      <td>65.0</td>\n",
       "      <td>6040</td>\n",
       "      <td>Pave</td>\n",
       "      <td>NaN</td>\n",
       "      <td>Reg</td>\n",
       "      <td>Lvl</td>\n",
       "      <td>AllPub</td>\n",
       "      <td>...</td>\n",
       "      <td>0</td>\n",
       "      <td>NaN</td>\n",
       "      <td>NaN</td>\n",
       "      <td>NaN</td>\n",
       "      <td>0</td>\n",
       "      <td>6</td>\n",
       "      <td>2008</td>\n",
       "      <td>WD</td>\n",
       "      <td>AdjLand</td>\n",
       "      <td>82000.0</td>\n",
       "    </tr>\n",
       "    <tr>\n",
       "      <th>48</th>\n",
       "      <td>49</td>\n",
       "      <td>190</td>\n",
       "      <td>RM</td>\n",
       "      <td>33.0</td>\n",
       "      <td>4456</td>\n",
       "      <td>Pave</td>\n",
       "      <td>NaN</td>\n",
       "      <td>Reg</td>\n",
       "      <td>Lvl</td>\n",
       "      <td>AllPub</td>\n",
       "      <td>...</td>\n",
       "      <td>0</td>\n",
       "      <td>NaN</td>\n",
       "      <td>NaN</td>\n",
       "      <td>NaN</td>\n",
       "      <td>0</td>\n",
       "      <td>6</td>\n",
       "      <td>2009</td>\n",
       "      <td>New</td>\n",
       "      <td>Partial</td>\n",
       "      <td>113000.0</td>\n",
       "    </tr>\n",
       "    <tr>\n",
       "      <th>78</th>\n",
       "      <td>79</td>\n",
       "      <td>90</td>\n",
       "      <td>RL</td>\n",
       "      <td>72.0</td>\n",
       "      <td>10778</td>\n",
       "      <td>Pave</td>\n",
       "      <td>NaN</td>\n",
       "      <td>Reg</td>\n",
       "      <td>Lvl</td>\n",
       "      <td>AllPub</td>\n",
       "      <td>...</td>\n",
       "      <td>0</td>\n",
       "      <td>NaN</td>\n",
       "      <td>NaN</td>\n",
       "      <td>NaN</td>\n",
       "      <td>0</td>\n",
       "      <td>4</td>\n",
       "      <td>2010</td>\n",
       "      <td>WD</td>\n",
       "      <td>Normal</td>\n",
       "      <td>136500.0</td>\n",
       "    </tr>\n",
       "    <tr>\n",
       "      <th>88</th>\n",
       "      <td>89</td>\n",
       "      <td>50</td>\n",
       "      <td>C (all)</td>\n",
       "      <td>105.0</td>\n",
       "      <td>8470</td>\n",
       "      <td>Pave</td>\n",
       "      <td>NaN</td>\n",
       "      <td>IR1</td>\n",
       "      <td>Lvl</td>\n",
       "      <td>AllPub</td>\n",
       "      <td>...</td>\n",
       "      <td>0</td>\n",
       "      <td>NaN</td>\n",
       "      <td>MnPrv</td>\n",
       "      <td>NaN</td>\n",
       "      <td>0</td>\n",
       "      <td>10</td>\n",
       "      <td>2009</td>\n",
       "      <td>ConLD</td>\n",
       "      <td>Abnorml</td>\n",
       "      <td>85000.0</td>\n",
       "    </tr>\n",
       "    <tr>\n",
       "      <th>89</th>\n",
       "      <td>90</td>\n",
       "      <td>20</td>\n",
       "      <td>RL</td>\n",
       "      <td>60.0</td>\n",
       "      <td>8070</td>\n",
       "      <td>Pave</td>\n",
       "      <td>NaN</td>\n",
       "      <td>Reg</td>\n",
       "      <td>Lvl</td>\n",
       "      <td>AllPub</td>\n",
       "      <td>...</td>\n",
       "      <td>0</td>\n",
       "      <td>NaN</td>\n",
       "      <td>NaN</td>\n",
       "      <td>NaN</td>\n",
       "      <td>0</td>\n",
       "      <td>8</td>\n",
       "      <td>2007</td>\n",
       "      <td>WD</td>\n",
       "      <td>Normal</td>\n",
       "      <td>123600.0</td>\n",
       "    </tr>\n",
       "    <tr>\n",
       "      <th>...</th>\n",
       "      <td>...</td>\n",
       "      <td>...</td>\n",
       "      <td>...</td>\n",
       "      <td>...</td>\n",
       "      <td>...</td>\n",
       "      <td>...</td>\n",
       "      <td>...</td>\n",
       "      <td>...</td>\n",
       "      <td>...</td>\n",
       "      <td>...</td>\n",
       "      <td>...</td>\n",
       "      <td>...</td>\n",
       "      <td>...</td>\n",
       "      <td>...</td>\n",
       "      <td>...</td>\n",
       "      <td>...</td>\n",
       "      <td>...</td>\n",
       "      <td>...</td>\n",
       "      <td>...</td>\n",
       "      <td>...</td>\n",
       "      <td>...</td>\n",
       "    </tr>\n",
       "    <tr>\n",
       "      <th>1433</th>\n",
       "      <td>2894</td>\n",
       "      <td>50</td>\n",
       "      <td>C (all)</td>\n",
       "      <td>60.0</td>\n",
       "      <td>8520</td>\n",
       "      <td>Grvl</td>\n",
       "      <td>NaN</td>\n",
       "      <td>Reg</td>\n",
       "      <td>Bnk</td>\n",
       "      <td>AllPub</td>\n",
       "      <td>...</td>\n",
       "      <td>0</td>\n",
       "      <td>NaN</td>\n",
       "      <td>NaN</td>\n",
       "      <td>NaN</td>\n",
       "      <td>0</td>\n",
       "      <td>4</td>\n",
       "      <td>2006</td>\n",
       "      <td>WD</td>\n",
       "      <td>Normal</td>\n",
       "      <td>NaN</td>\n",
       "    </tr>\n",
       "    <tr>\n",
       "      <th>1449</th>\n",
       "      <td>2910</td>\n",
       "      <td>180</td>\n",
       "      <td>RM</td>\n",
       "      <td>21.0</td>\n",
       "      <td>1470</td>\n",
       "      <td>Pave</td>\n",
       "      <td>NaN</td>\n",
       "      <td>Reg</td>\n",
       "      <td>Lvl</td>\n",
       "      <td>AllPub</td>\n",
       "      <td>...</td>\n",
       "      <td>0</td>\n",
       "      <td>NaN</td>\n",
       "      <td>NaN</td>\n",
       "      <td>NaN</td>\n",
       "      <td>0</td>\n",
       "      <td>4</td>\n",
       "      <td>2006</td>\n",
       "      <td>WD</td>\n",
       "      <td>Normal</td>\n",
       "      <td>NaN</td>\n",
       "    </tr>\n",
       "    <tr>\n",
       "      <th>1453</th>\n",
       "      <td>2914</td>\n",
       "      <td>160</td>\n",
       "      <td>RM</td>\n",
       "      <td>21.0</td>\n",
       "      <td>1526</td>\n",
       "      <td>Pave</td>\n",
       "      <td>NaN</td>\n",
       "      <td>Reg</td>\n",
       "      <td>Lvl</td>\n",
       "      <td>AllPub</td>\n",
       "      <td>...</td>\n",
       "      <td>0</td>\n",
       "      <td>NaN</td>\n",
       "      <td>GdPrv</td>\n",
       "      <td>NaN</td>\n",
       "      <td>0</td>\n",
       "      <td>6</td>\n",
       "      <td>2006</td>\n",
       "      <td>WD</td>\n",
       "      <td>Normal</td>\n",
       "      <td>NaN</td>\n",
       "    </tr>\n",
       "    <tr>\n",
       "      <th>1454</th>\n",
       "      <td>2915</td>\n",
       "      <td>160</td>\n",
       "      <td>RM</td>\n",
       "      <td>21.0</td>\n",
       "      <td>1936</td>\n",
       "      <td>Pave</td>\n",
       "      <td>NaN</td>\n",
       "      <td>Reg</td>\n",
       "      <td>Lvl</td>\n",
       "      <td>AllPub</td>\n",
       "      <td>...</td>\n",
       "      <td>0</td>\n",
       "      <td>NaN</td>\n",
       "      <td>NaN</td>\n",
       "      <td>NaN</td>\n",
       "      <td>0</td>\n",
       "      <td>6</td>\n",
       "      <td>2006</td>\n",
       "      <td>WD</td>\n",
       "      <td>Normal</td>\n",
       "      <td>NaN</td>\n",
       "    </tr>\n",
       "    <tr>\n",
       "      <th>1457</th>\n",
       "      <td>2918</td>\n",
       "      <td>85</td>\n",
       "      <td>RL</td>\n",
       "      <td>62.0</td>\n",
       "      <td>10441</td>\n",
       "      <td>Pave</td>\n",
       "      <td>NaN</td>\n",
       "      <td>Reg</td>\n",
       "      <td>Lvl</td>\n",
       "      <td>AllPub</td>\n",
       "      <td>...</td>\n",
       "      <td>0</td>\n",
       "      <td>NaN</td>\n",
       "      <td>MnPrv</td>\n",
       "      <td>Shed</td>\n",
       "      <td>700</td>\n",
       "      <td>7</td>\n",
       "      <td>2006</td>\n",
       "      <td>WD</td>\n",
       "      <td>Normal</td>\n",
       "      <td>NaN</td>\n",
       "    </tr>\n",
       "  </tbody>\n",
       "</table>\n",
       "<p>157 rows × 81 columns</p>\n",
       "</div>"
      ],
      "text/plain": [
       "        Id  MSSubClass MSZoning  LotFrontage  LotArea Street Alley LotShape  \\\n",
       "39      40          90       RL         65.0     6040   Pave   NaN      Reg   \n",
       "48      49         190       RM         33.0     4456   Pave   NaN      Reg   \n",
       "78      79          90       RL         72.0    10778   Pave   NaN      Reg   \n",
       "88      89          50  C (all)        105.0     8470   Pave   NaN      IR1   \n",
       "89      90          20       RL         60.0     8070   Pave   NaN      Reg   \n",
       "...    ...         ...      ...          ...      ...    ...   ...      ...   \n",
       "1433  2894          50  C (all)         60.0     8520   Grvl   NaN      Reg   \n",
       "1449  2910         180       RM         21.0     1470   Pave   NaN      Reg   \n",
       "1453  2914         160       RM         21.0     1526   Pave   NaN      Reg   \n",
       "1454  2915         160       RM         21.0     1936   Pave   NaN      Reg   \n",
       "1457  2918          85       RL         62.0    10441   Pave   NaN      Reg   \n",
       "\n",
       "     LandContour Utilities  ... PoolArea PoolQC  Fence MiscFeature MiscVal  \\\n",
       "39           Lvl    AllPub  ...        0    NaN    NaN         NaN       0   \n",
       "48           Lvl    AllPub  ...        0    NaN    NaN         NaN       0   \n",
       "78           Lvl    AllPub  ...        0    NaN    NaN         NaN       0   \n",
       "88           Lvl    AllPub  ...        0    NaN  MnPrv         NaN       0   \n",
       "89           Lvl    AllPub  ...        0    NaN    NaN         NaN       0   \n",
       "...          ...       ...  ...      ...    ...    ...         ...     ...   \n",
       "1433         Bnk    AllPub  ...        0    NaN    NaN         NaN       0   \n",
       "1449         Lvl    AllPub  ...        0    NaN    NaN         NaN       0   \n",
       "1453         Lvl    AllPub  ...        0    NaN  GdPrv         NaN       0   \n",
       "1454         Lvl    AllPub  ...        0    NaN    NaN         NaN       0   \n",
       "1457         Lvl    AllPub  ...        0    NaN  MnPrv        Shed     700   \n",
       "\n",
       "     MoSold YrSold  SaleType  SaleCondition  SalePrice  \n",
       "39        6   2008        WD        AdjLand    82000.0  \n",
       "48        6   2009       New        Partial   113000.0  \n",
       "78        4   2010        WD         Normal   136500.0  \n",
       "88       10   2009     ConLD        Abnorml    85000.0  \n",
       "89        8   2007        WD         Normal   123600.0  \n",
       "...     ...    ...       ...            ...        ...  \n",
       "1433      4   2006        WD         Normal        NaN  \n",
       "1449      4   2006        WD         Normal        NaN  \n",
       "1453      6   2006        WD         Normal        NaN  \n",
       "1454      6   2006        WD         Normal        NaN  \n",
       "1457      7   2006        WD         Normal        NaN  \n",
       "\n",
       "[157 rows x 81 columns]"
      ]
     },
     "execution_count": 132,
     "metadata": {},
     "output_type": "execute_result"
    }
   ],
   "source": [
    "#GarageYrBlt null values\n",
    "\n",
    "GYT_null = all_data[all_data[\"GarageYrBlt\"].isnull()]\n",
    "GYT_not_null = all_data[all_data[\"GarageYrBlt\"].isnull()==False]\n",
    "\n",
    "#GarageYrBlt null values correspond almost exactly to null values of GarageType, GarageFinish, GarageQual, GarageCond\\\n",
    "\n",
    "all_data[all_data[\"GarageYrBlt\"].isnull() & all_data[\"GarageType\"].isnull() & all_data[\"GarageFinish\"].isnull() & all_data[\"GarageQual\"].isnull() & all_data[\"GarageCond\"].isnull()] "
   ]
  },
  {
   "cell_type": "code",
   "execution_count": 133,
   "id": "0d3c7659",
   "metadata": {},
   "outputs": [
    {
     "data": {
      "text/plain": [
       "Id                  0\n",
       "MSSubClass          0\n",
       "LotFrontage       486\n",
       "LotArea             0\n",
       "OverallQual         0\n",
       "OverallCond         0\n",
       "YearBuilt           0\n",
       "YearRemodAdd        0\n",
       "MasVnrArea          0\n",
       "BsmtFinSF1          1\n",
       "BsmtFinSF2          1\n",
       "BsmtUnfSF           1\n",
       "TotalBsmtSF         1\n",
       "1stFlrSF            0\n",
       "2ndFlrSF            0\n",
       "LowQualFinSF        0\n",
       "GrLivArea           0\n",
       "BsmtFullBath        2\n",
       "BsmtHalfBath        2\n",
       "FullBath            0\n",
       "HalfBath            0\n",
       "BedroomAbvGr        0\n",
       "KitchenAbvGr        0\n",
       "TotRmsAbvGrd        0\n",
       "Fireplaces          0\n",
       "GarageYrBlt       159\n",
       "GarageCars          1\n",
       "GarageArea          1\n",
       "WoodDeckSF          0\n",
       "OpenPorchSF         0\n",
       "EnclosedPorch       0\n",
       "3SsnPorch           0\n",
       "ScreenPorch         0\n",
       "PoolArea            0\n",
       "MiscVal             0\n",
       "MoSold              0\n",
       "YrSold              0\n",
       "SalePrice        1459\n",
       "dtype: int64"
      ]
     },
     "metadata": {},
     "output_type": "display_data"
    },
    {
     "data": {
      "text/plain": [
       "MSZoning            4\n",
       "Street              0\n",
       "Alley            2721\n",
       "LotShape            0\n",
       "LandContour         0\n",
       "Utilities           2\n",
       "LotConfig           0\n",
       "LandSlope           0\n",
       "Neighborhood        0\n",
       "Condition1          0\n",
       "Condition2          0\n",
       "BldgType            0\n",
       "HouseStyle          0\n",
       "RoofStyle           0\n",
       "RoofMatl            0\n",
       "Exterior1st         1\n",
       "Exterior2nd         1\n",
       "MasVnrType          0\n",
       "ExterQual           0\n",
       "ExterCond           0\n",
       "Foundation          0\n",
       "BsmtQual           81\n",
       "BsmtCond           82\n",
       "BsmtExposure       82\n",
       "BsmtFinType1       79\n",
       "BsmtFinType2       80\n",
       "Heating             0\n",
       "HeatingQC           0\n",
       "CentralAir          0\n",
       "Electrical          1\n",
       "KitchenQual         1\n",
       "Functional          2\n",
       "FireplaceQu      1420\n",
       "GarageType        157\n",
       "GarageFinish      159\n",
       "GarageQual        159\n",
       "GarageCond        159\n",
       "PavedDrive          0\n",
       "PoolQC           2909\n",
       "Fence            2348\n",
       "MiscFeature      2814\n",
       "SaleType            1\n",
       "SaleCondition       0\n",
       "dtype: int64"
      ]
     },
     "metadata": {},
     "output_type": "display_data"
    }
   ],
   "source": [
    "# Missing numerical data\n",
    "display(all_data.select_dtypes(exclude=['object']).isnull().sum())\n",
    "\n",
    "# Missing categorical data\n",
    "display(all_data.select_dtypes(include=['object']).isnull().sum())"
   ]
  },
  {
   "cell_type": "code",
   "execution_count": 134,
   "id": "44f8c077",
   "metadata": {},
   "outputs": [
    {
     "data": {
      "text/html": [
       "<div>\n",
       "<style scoped>\n",
       "    .dataframe tbody tr th:only-of-type {\n",
       "        vertical-align: middle;\n",
       "    }\n",
       "\n",
       "    .dataframe tbody tr th {\n",
       "        vertical-align: top;\n",
       "    }\n",
       "\n",
       "    .dataframe thead th {\n",
       "        text-align: right;\n",
       "    }\n",
       "</style>\n",
       "<table border=\"1\" class=\"dataframe\">\n",
       "  <thead>\n",
       "    <tr style=\"text-align: right;\">\n",
       "      <th></th>\n",
       "      <th>Id</th>\n",
       "      <th>GarageArea</th>\n",
       "      <th>GarageCars</th>\n",
       "      <th>GarageType</th>\n",
       "      <th>GarageFinish</th>\n",
       "      <th>GarageQual</th>\n",
       "      <th>GarageCond</th>\n",
       "    </tr>\n",
       "  </thead>\n",
       "  <tbody>\n",
       "    <tr>\n",
       "      <th>666</th>\n",
       "      <td>2127</td>\n",
       "      <td>360.0</td>\n",
       "      <td>1.0</td>\n",
       "      <td>Detchd</td>\n",
       "      <td>NaN</td>\n",
       "      <td>NaN</td>\n",
       "      <td>NaN</td>\n",
       "    </tr>\n",
       "    <tr>\n",
       "      <th>1116</th>\n",
       "      <td>2577</td>\n",
       "      <td>NaN</td>\n",
       "      <td>NaN</td>\n",
       "      <td>Detchd</td>\n",
       "      <td>NaN</td>\n",
       "      <td>NaN</td>\n",
       "      <td>NaN</td>\n",
       "    </tr>\n",
       "  </tbody>\n",
       "</table>\n",
       "</div>"
      ],
      "text/plain": [
       "        Id  GarageArea  GarageCars GarageType GarageFinish GarageQual  \\\n",
       "666   2127       360.0         1.0     Detchd          NaN        NaN   \n",
       "1116  2577         NaN         NaN     Detchd          NaN        NaN   \n",
       "\n",
       "     GarageCond  \n",
       "666         NaN  \n",
       "1116        NaN  "
      ]
     },
     "metadata": {},
     "output_type": "display_data"
    },
    {
     "data": {
      "text/html": [
       "<div>\n",
       "<style scoped>\n",
       "    .dataframe tbody tr th:only-of-type {\n",
       "        vertical-align: middle;\n",
       "    }\n",
       "\n",
       "    .dataframe tbody tr th {\n",
       "        vertical-align: top;\n",
       "    }\n",
       "\n",
       "    .dataframe thead th {\n",
       "        text-align: right;\n",
       "    }\n",
       "</style>\n",
       "<table border=\"1\" class=\"dataframe\">\n",
       "  <thead>\n",
       "    <tr style=\"text-align: right;\">\n",
       "      <th></th>\n",
       "      <th>Id</th>\n",
       "      <th>GarageArea</th>\n",
       "      <th>GarageCars</th>\n",
       "      <th>GarageType</th>\n",
       "      <th>GarageFinish</th>\n",
       "      <th>GarageQual</th>\n",
       "      <th>GarageCond</th>\n",
       "    </tr>\n",
       "  </thead>\n",
       "  <tbody>\n",
       "    <tr>\n",
       "      <th>666</th>\n",
       "      <td>2127</td>\n",
       "      <td>360.0</td>\n",
       "      <td>1.0</td>\n",
       "      <td>Detchd</td>\n",
       "      <td>Unf</td>\n",
       "      <td>TA</td>\n",
       "      <td>TA</td>\n",
       "    </tr>\n",
       "    <tr>\n",
       "      <th>1116</th>\n",
       "      <td>2577</td>\n",
       "      <td>576.0</td>\n",
       "      <td>2.0</td>\n",
       "      <td>Detchd</td>\n",
       "      <td>Unf</td>\n",
       "      <td>TA</td>\n",
       "      <td>TA</td>\n",
       "    </tr>\n",
       "  </tbody>\n",
       "</table>\n",
       "</div>"
      ],
      "text/plain": [
       "        Id  GarageArea  GarageCars GarageType GarageFinish GarageQual  \\\n",
       "666   2127       360.0         1.0     Detchd          Unf         TA   \n",
       "1116  2577       576.0         2.0     Detchd          Unf         TA   \n",
       "\n",
       "     GarageCond  \n",
       "666          TA  \n",
       "1116         TA  "
      ]
     },
     "execution_count": 134,
     "metadata": {},
     "output_type": "execute_result"
    }
   ],
   "source": [
    "# Examine the mismatched rows\n",
    "display(all_data[(all_data[\"GarageFinish\"].isnull()) & (all_data[\"GarageType\"].isnull() == False)][[\"Id\",\"GarageArea\",\"GarageCars\",\"GarageType\",\"GarageFinish\",\"GarageQual\",\"GarageCond\"]])\n",
    "\n",
    "# Clean up these entries\n",
    "garage_columns = [\"Id\",\"GarageArea\",\"GarageCars\",\"GarageType\",\"GarageFinish\",\"GarageQual\",\"GarageCond\"]\n",
    "Detchd_GF_mode = all_data[all_data[\"GarageType\"] == \"Detchd\"][\"GarageFinish\"].mode()[0]\n",
    "Detchd_GQ_mode = all_data[all_data[\"GarageType\"] == \"Detchd\"][\"GarageQual\"].mode()[0]\n",
    "Detchd_GCo_mode = all_data[all_data[\"GarageType\"] == \"Detchd\"][\"GarageCond\"].mode()[0]\n",
    "Detchd_GA_mode = all_data[all_data[\"GarageType\"] == \"Detchd\"][\"GarageArea\"].mode()[0]\n",
    "Detchd_GCa_mode = all_data[all_data[\"GarageType\"] == \"Detchd\"][\"GarageCars\"].mode()[0]\n",
    "all_data.loc[(all_data[\"Id\"].isin((2127,2577))),\"GarageFinish\"] = Detchd_GF_mode\n",
    "all_data.loc[(all_data[\"Id\"].isin((2127,2577))),\"GarageQual\"] = Detchd_GQ_mode\n",
    "all_data.loc[(all_data[\"Id\"].isin((2127,2577))),\"GarageCond\"] = Detchd_GCo_mode\n",
    "all_data.loc[(all_data[\"Id\"] == 2577),\"GarageArea\"] = Detchd_GA_mode\n",
    "all_data.loc[(all_data[\"Id\"] == 2577),\"GarageCars\"] = Detchd_GCa_mode\n",
    "\n",
    "# # Re-examine the mismatched rows\n",
    "all_data.loc[(all_data[\"Id\"].isin((2127,2577))), garage_columns]"
   ]
  },
  {
   "cell_type": "code",
   "execution_count": 135,
   "id": "d3078d13",
   "metadata": {},
   "outputs": [],
   "source": [
    "# GarageYrBlt is highly correlated with YrBlt. \n",
    "corr[\"GarageYrBlt\"][\"YearBuilt\"]\n",
    "\n",
    "# Drop GarageYrBlt\n",
    "all_data = all_data.drop(\"GarageYrBlt\", axis=1)\n",
    "\n",
    "# GarageCars and GarageArea are highly correlated and have similar correlation with target. \n",
    "# Drop GarageCars\n",
    "all_data = all_data.drop(\"GarageCars\", axis=1)"
   ]
  },
  {
   "cell_type": "code",
   "execution_count": 136,
   "id": "a6bf80df",
   "metadata": {},
   "outputs": [],
   "source": [
    "# Set null values for Alley, PoolQC, Fence, MiscFeature, GarageType, GarageFinish, GarageQual, GarageCond, FireplaceQu to NA\n",
    "all_data[\"Alley\"].fillna(\"NA\", inplace = True)\n",
    "all_data[\"PoolQC\"].fillna(\"NA\", inplace = True)\n",
    "all_data[\"Fence\"].fillna(\"NA\", inplace = True)\n",
    "all_data[\"MiscFeature\"].fillna(\"NA\", inplace = True)\n",
    "all_data[\"GarageType\"].fillna(\"NA\", inplace = True)\n",
    "all_data[\"GarageFinish\"].fillna(\"NA\", inplace = True)\n",
    "all_data[\"GarageQual\"].fillna(\"NA\", inplace = True)\n",
    "all_data[\"GarageCond\"].fillna(\"NA\", inplace = True)\n",
    "all_data[\"FireplaceQu\"].fillna(\"NA\", inplace = True)"
   ]
  },
  {
   "cell_type": "code",
   "execution_count": 137,
   "id": "c3714235",
   "metadata": {},
   "outputs": [],
   "source": [
    "# Assume basement related null vales have no basement\n",
    "all_data[\"BsmtQual\"].fillna(\"Na\", inplace = True)\n",
    "all_data[\"BsmtCond\"].fillna(\"Na\", inplace = True)\n",
    "all_data[\"BsmtExposure\"].fillna(\"Na\", inplace = True)\n",
    "all_data[\"BsmtFinType1\"].fillna(\"Na\", inplace = True)\n",
    "all_data[\"BsmtFinType2\"].fillna(\"Na\", inplace = True)\n",
    "\n",
    "all_data[\"BsmtFinSF1\"].fillna(0, inplace = True)\n",
    "all_data[\"BsmtFinSF2\"].fillna(0, inplace = True)\n",
    "all_data[\"BsmtUnfSF\"].fillna(0, inplace = True)\n",
    "all_data[\"TotalBsmtSF\"].fillna(0, inplace = True)\n",
    "all_data[\"BsmtFullBath\"].fillna(0, inplace = True)\n",
    "all_data[\"BsmtHalfBath\"].fillna(0, inplace = True)"
   ]
  },
  {
   "cell_type": "code",
   "execution_count": 138,
   "id": "4194517a",
   "metadata": {},
   "outputs": [
    {
     "data": {
      "text/plain": [
       "Id                  0\n",
       "MSSubClass          0\n",
       "LotFrontage       486\n",
       "LotArea             0\n",
       "OverallQual         0\n",
       "OverallCond         0\n",
       "YearBuilt           0\n",
       "YearRemodAdd        0\n",
       "MasVnrArea          0\n",
       "BsmtFinSF1          0\n",
       "BsmtFinSF2          0\n",
       "BsmtUnfSF           0\n",
       "TotalBsmtSF         0\n",
       "1stFlrSF            0\n",
       "2ndFlrSF            0\n",
       "LowQualFinSF        0\n",
       "GrLivArea           0\n",
       "BsmtFullBath        0\n",
       "BsmtHalfBath        0\n",
       "FullBath            0\n",
       "HalfBath            0\n",
       "BedroomAbvGr        0\n",
       "KitchenAbvGr        0\n",
       "TotRmsAbvGrd        0\n",
       "Fireplaces          0\n",
       "GarageArea          0\n",
       "WoodDeckSF          0\n",
       "OpenPorchSF         0\n",
       "EnclosedPorch       0\n",
       "3SsnPorch           0\n",
       "ScreenPorch         0\n",
       "PoolArea            0\n",
       "MiscVal             0\n",
       "MoSold              0\n",
       "YrSold              0\n",
       "SalePrice        1459\n",
       "dtype: int64"
      ]
     },
     "metadata": {},
     "output_type": "display_data"
    },
    {
     "data": {
      "text/plain": [
       "MSZoning         4\n",
       "Street           0\n",
       "Alley            0\n",
       "LotShape         0\n",
       "LandContour      0\n",
       "Utilities        2\n",
       "LotConfig        0\n",
       "LandSlope        0\n",
       "Neighborhood     0\n",
       "Condition1       0\n",
       "Condition2       0\n",
       "BldgType         0\n",
       "HouseStyle       0\n",
       "RoofStyle        0\n",
       "RoofMatl         0\n",
       "Exterior1st      1\n",
       "Exterior2nd      1\n",
       "MasVnrType       0\n",
       "ExterQual        0\n",
       "ExterCond        0\n",
       "Foundation       0\n",
       "BsmtQual         0\n",
       "BsmtCond         0\n",
       "BsmtExposure     0\n",
       "BsmtFinType1     0\n",
       "BsmtFinType2     0\n",
       "Heating          0\n",
       "HeatingQC        0\n",
       "CentralAir       0\n",
       "Electrical       1\n",
       "KitchenQual      1\n",
       "Functional       2\n",
       "FireplaceQu      0\n",
       "GarageType       0\n",
       "GarageFinish     0\n",
       "GarageQual       0\n",
       "GarageCond       0\n",
       "PavedDrive       0\n",
       "PoolQC           0\n",
       "Fence            0\n",
       "MiscFeature      0\n",
       "SaleType         1\n",
       "SaleCondition    0\n",
       "dtype: int64"
      ]
     },
     "metadata": {},
     "output_type": "display_data"
    }
   ],
   "source": [
    "# Missing numerical data\n",
    "display(all_data.select_dtypes(exclude=['object']).isnull().sum())\n",
    "\n",
    "# Missing categorical data\n",
    "display(all_data.select_dtypes(include=['object']).isnull().sum())"
   ]
  },
  {
   "cell_type": "code",
   "execution_count": 139,
   "id": "35281071",
   "metadata": {},
   "outputs": [],
   "source": [
    "# Set all other categorical nulls to mode\n",
    "all_data[\"MSZoning\"].fillna(all_data[\"MSZoning\"].mode()[0], inplace=True)\n",
    "all_data[\"Utilities\"].fillna(all_data[\"Utilities\"].mode()[0], inplace=True)\n",
    "all_data[\"Exterior1st\"].fillna(all_data[\"Exterior1st\"].mode()[0], inplace=True)\n",
    "all_data[\"Exterior2nd\"].fillna(all_data[\"Exterior2nd\"].mode()[0], inplace=True)\n",
    "all_data[\"Electrical\"].fillna(all_data[\"Electrical\"].mode()[0], inplace=True)\n",
    "all_data[\"KitchenQual\"].fillna(all_data[\"KitchenQual\"].mode()[0], inplace=True)\n",
    "all_data[\"Functional\"].fillna(all_data[\"Functional\"].mode()[0], inplace=True)\n",
    "all_data[\"SaleType\"].fillna(all_data[\"SaleType\"].mode()[0], inplace=True)"
   ]
  },
  {
   "cell_type": "code",
   "execution_count": 140,
   "id": "984e0688",
   "metadata": {},
   "outputs": [
    {
     "data": {
      "text/plain": [
       "LotConfig\n",
       "Corner     82.690418\n",
       "CulDSac    56.775281\n",
       "FR2        61.276923\n",
       "FR3        79.300000\n",
       "Inside     67.205693\n",
       "Name: LotFrontage, dtype: float64"
      ]
     },
     "execution_count": 140,
     "metadata": {},
     "output_type": "execute_result"
    }
   ],
   "source": [
    "# Examine 486 LotFrontage Null values\n",
    "LF_null = all_data[all_data['LotFrontage'].isnull()]\n",
    "LF_not_null = all_data[all_data['LotFrontage'].isnull() == False]\n",
    "\n",
    "# Means of LotFrontage grouped by LotConfig\n",
    "LF_not_null.groupby('LotConfig')['LotFrontage'].mean()"
   ]
  },
  {
   "cell_type": "code",
   "execution_count": 141,
   "id": "1f4492bf",
   "metadata": {},
   "outputs": [
    {
     "data": {
      "text/plain": [
       "NA      473\n",
       "Pave      7\n",
       "Grvl      6\n",
       "Name: Alley, dtype: int64"
      ]
     },
     "execution_count": 141,
     "metadata": {},
     "output_type": "execute_result"
    }
   ],
   "source": [
    "# Only 13 out of 486 null values have alleys attached\n",
    "LF_null[\"Alley\"].value_counts()"
   ]
  },
  {
   "cell_type": "code",
   "execution_count": 142,
   "id": "efb401fa",
   "metadata": {},
   "outputs": [
    {
     "data": {
      "text/plain": [
       "BldgType\n",
       "1Fam      423\n",
       "2fmCon      3\n",
       "Duplex     17\n",
       "Twnhs       5\n",
       "TwnhsE     38\n",
       "dtype: int64"
      ]
     },
     "execution_count": 142,
     "metadata": {},
     "output_type": "execute_result"
    }
   ],
   "source": [
    "# Most are single family homes\n",
    "LF_null.groupby('BldgType').size()"
   ]
  },
  {
   "cell_type": "code",
   "execution_count": 143,
   "id": "b0279695",
   "metadata": {},
   "outputs": [
    {
     "data": {
      "text/plain": [
       "MSZoning\n",
       "C (all)      2\n",
       "FV          20\n",
       "RH           3\n",
       "RL         427\n",
       "RM          34\n",
       "dtype: int64"
      ]
     },
     "execution_count": 143,
     "metadata": {},
     "output_type": "execute_result"
    }
   ],
   "source": [
    "# Most are Residential Low Density\n",
    "LF_null.groupby('MSZoning').size()\n",
    "\n",
    "# Indicates that they should have nonzero lot frontage"
   ]
  },
  {
   "cell_type": "code",
   "execution_count": 144,
   "id": "3dc0781b",
   "metadata": {},
   "outputs": [
    {
     "name": "stdout",
     "output_type": "stream",
     "text": [
      "[('LotArea', 0.0), ('MSZoning_FV', -0.71), ('MSZoning_RH', -6.09), ('MSZoning_RL', 8.1), ('MSZoning_RM', -7.7), ('MSZoning_C (all)', 0.0), ('LotShape_IR1', -0.0), ('LotShape_IR2', -4.23), ('LotShape_IR3', 0.98), ('LotShape_Reg', -3.49), ('LotConfig_Corner', 0.0), ('LotConfig_CulDSac', -37.47), ('LotConfig_FR2', -21.35), ('LotConfig_FR3', 2.59), ('LotConfig_Inside', -13.81)]\n"
     ]
    },
    {
     "name": "stderr",
     "output_type": "stream",
     "text": [
      "C:\\Users\\tdevanur\\Anaconda3\\lib\\site-packages\\pandas\\core\\indexing.py:1732: SettingWithCopyWarning: \n",
      "A value is trying to be set on a copy of a slice from a DataFrame\n",
      "\n",
      "See the caveats in the documentation: https://pandas.pydata.org/pandas-docs/stable/user_guide/indexing.html#returning-a-view-versus-a-copy\n",
      "  self._setitem_single_block(indexer, value, name)\n"
     ]
    }
   ],
   "source": [
    "# Impute missing LotFrontage values using Regression on MSSubClass, MSZoning, LotArea, LotShape, LotConfig\n",
    "from sklearn.linear_model import LinearRegression\n",
    "\n",
    "LF_train = LF_not_null[['LotFrontage', 'MSZoning', 'LotArea', 'LotShape', 'LotConfig']]\n",
    "LF_train = pd.get_dummies(LF_train, drop_first=True)\n",
    "LF_train_x = LF_train.drop(['LotFrontage'], axis=1)\n",
    "LF_train_x.insert(8, \"LotConfig_Corner\", [0]*LF_train_x.shape[0])\n",
    "LF_train_x.insert(5, \"LotShape_IR1\", [0]*LF_train_x.shape[0])\n",
    "LF_train_x.insert(5, \"MSZoning_C (all)\", [0]*LF_train_x.shape[0])\n",
    "LF_train_y = LF_train[['LotFrontage']]\n",
    "LF_test = LF_null[['MSZoning', 'LotArea', 'LotShape', 'LotConfig']]\n",
    "LF_test = pd.get_dummies(LF_test)\n",
    "LF_features = list(LF_train_x.columns)\n",
    "model = LinearRegression()\n",
    "model.fit(LF_train_x,LF_train_y)\n",
    "print(list(zip(LF_features ,np.around(model.coef_[0],2))))\n",
    "LF_imputed_values = model.predict(LF_test)\n",
    "pointer = 0\n",
    "for i in range(len(all_data)):\n",
    "    if pd.isnull(all_data.iloc[i][\"LotFrontage\"]):\n",
    "        all_data.LotFrontage.iloc[i]  = LF_imputed_values[pointer][0]\n",
    "        pointer += 1\n"
   ]
  },
  {
   "cell_type": "code",
   "execution_count": 145,
   "id": "4d1050a5",
   "metadata": {},
   "outputs": [
    {
     "data": {
      "text/plain": [
       "Id                  0\n",
       "MSSubClass          0\n",
       "LotFrontage         0\n",
       "LotArea             0\n",
       "OverallQual         0\n",
       "OverallCond         0\n",
       "YearBuilt           0\n",
       "YearRemodAdd        0\n",
       "MasVnrArea          0\n",
       "BsmtFinSF1          0\n",
       "BsmtFinSF2          0\n",
       "BsmtUnfSF           0\n",
       "TotalBsmtSF         0\n",
       "1stFlrSF            0\n",
       "2ndFlrSF            0\n",
       "LowQualFinSF        0\n",
       "GrLivArea           0\n",
       "BsmtFullBath        0\n",
       "BsmtHalfBath        0\n",
       "FullBath            0\n",
       "HalfBath            0\n",
       "BedroomAbvGr        0\n",
       "KitchenAbvGr        0\n",
       "TotRmsAbvGrd        0\n",
       "Fireplaces          0\n",
       "GarageArea          0\n",
       "WoodDeckSF          0\n",
       "OpenPorchSF         0\n",
       "EnclosedPorch       0\n",
       "3SsnPorch           0\n",
       "ScreenPorch         0\n",
       "PoolArea            0\n",
       "MiscVal             0\n",
       "MoSold              0\n",
       "YrSold              0\n",
       "SalePrice        1459\n",
       "dtype: int64"
      ]
     },
     "metadata": {},
     "output_type": "display_data"
    },
    {
     "data": {
      "text/plain": [
       "MSZoning         0\n",
       "Street           0\n",
       "Alley            0\n",
       "LotShape         0\n",
       "LandContour      0\n",
       "Utilities        0\n",
       "LotConfig        0\n",
       "LandSlope        0\n",
       "Neighborhood     0\n",
       "Condition1       0\n",
       "Condition2       0\n",
       "BldgType         0\n",
       "HouseStyle       0\n",
       "RoofStyle        0\n",
       "RoofMatl         0\n",
       "Exterior1st      0\n",
       "Exterior2nd      0\n",
       "MasVnrType       0\n",
       "ExterQual        0\n",
       "ExterCond        0\n",
       "Foundation       0\n",
       "BsmtQual         0\n",
       "BsmtCond         0\n",
       "BsmtExposure     0\n",
       "BsmtFinType1     0\n",
       "BsmtFinType2     0\n",
       "Heating          0\n",
       "HeatingQC        0\n",
       "CentralAir       0\n",
       "Electrical       0\n",
       "KitchenQual      0\n",
       "Functional       0\n",
       "FireplaceQu      0\n",
       "GarageType       0\n",
       "GarageFinish     0\n",
       "GarageQual       0\n",
       "GarageCond       0\n",
       "PavedDrive       0\n",
       "PoolQC           0\n",
       "Fence            0\n",
       "MiscFeature      0\n",
       "SaleType         0\n",
       "SaleCondition    0\n",
       "dtype: int64"
      ]
     },
     "metadata": {},
     "output_type": "display_data"
    }
   ],
   "source": [
    "# Missing numerical data\n",
    "display(all_data.select_dtypes(exclude=['object']).isnull().sum())\n",
    "\n",
    "# Missing categorical data\n",
    "display(all_data.select_dtypes(include=['object']).isnull().sum())"
   ]
  },
  {
   "cell_type": "code",
   "execution_count": 146,
   "id": "a00f10ac",
   "metadata": {},
   "outputs": [],
   "source": [
    "all_data = pd.get_dummies(all_data)\n",
    "all_data.drop(['Id'],axis=1,inplace=True)\n"
   ]
  },
  {
   "cell_type": "code",
   "execution_count": null,
   "id": "fc88861f",
   "metadata": {},
   "outputs": [],
   "source": []
  },
  {
   "cell_type": "code",
   "execution_count": 147,
   "id": "86fcaa1d",
   "metadata": {},
   "outputs": [],
   "source": [
    "train_df = all_data.iloc[:len(train_data),:]\n",
    "test_df = all_data.iloc[len(train_data):,:]\n",
    "test_df = test_df.drop([\"SalePrice\"],axis=1)"
   ]
  },
  {
   "cell_type": "code",
   "execution_count": null,
   "id": "649481bc",
   "metadata": {},
   "outputs": [],
   "source": []
  },
  {
   "cell_type": "code",
   "execution_count": 148,
   "id": "77de27e1",
   "metadata": {},
   "outputs": [],
   "source": [
    "from sklearn.model_selection import train_test_split\n",
    "all_train_x = train_df.drop([\"SalePrice\"],axis=1)\n",
    "all_train_y = train_df[\"SalePrice\"]\n",
    "x_train, x_test, y_train, y_test = train_test_split(all_train_x, all_train_y, test_size=0.2, random_state=0)"
   ]
  },
  {
   "cell_type": "code",
   "execution_count": 149,
   "id": "5bfd5a9e",
   "metadata": {},
   "outputs": [
    {
     "name": "stderr",
     "output_type": "stream",
     "text": [
      "C:\\Users\\tdevanur\\Anaconda3\\lib\\site-packages\\pandas\\core\\frame.py:3678: SettingWithCopyWarning: \n",
      "A value is trying to be set on a copy of a slice from a DataFrame.\n",
      "Try using .loc[row_indexer,col_indexer] = value instead\n",
      "\n",
      "See the caveats in the documentation: https://pandas.pydata.org/pandas-docs/stable/user_guide/indexing.html#returning-a-view-versus-a-copy\n",
      "  self[col] = igetitem(value, i)\n",
      "C:\\Users\\tdevanur\\Anaconda3\\lib\\site-packages\\pandas\\core\\frame.py:3678: SettingWithCopyWarning: \n",
      "A value is trying to be set on a copy of a slice from a DataFrame.\n",
      "Try using .loc[row_indexer,col_indexer] = value instead\n",
      "\n",
      "See the caveats in the documentation: https://pandas.pydata.org/pandas-docs/stable/user_guide/indexing.html#returning-a-view-versus-a-copy\n",
      "  self[col] = igetitem(value, i)\n"
     ]
    }
   ],
   "source": [
    "from sklearn.preprocessing import StandardScaler\n",
    "scaler = StandardScaler()\n",
    "x_train[x_train.columns] = scaler.fit_transform(x_train)\n",
    "x_test[x_test.columns] = scaler.transform(x_test)\n",
    "y_train = y_train.astype(int)\n",
    "y_test = y_test.astype(int)"
   ]
  },
  {
   "cell_type": "code",
   "execution_count": 150,
   "id": "23b69968",
   "metadata": {},
   "outputs": [],
   "source": [
    "from sklearn.ensemble import RandomForestClassifier\n",
    "model = RandomForestClassifier()\n",
    "model.fit(x_train, y_train)\n",
    "\n",
    "feature_imp = pd.DataFrame(model.feature_importances_, index=all_train_x.columns, columns=[\"importance\"])\n",
    "features = feature_imp.sort_values(\"importance\", ascending=False).head(20).index\n",
    "features = list(features)\n",
    "\n"
   ]
  },
  {
   "cell_type": "code",
   "execution_count": 151,
   "id": "981eb36c",
   "metadata": {},
   "outputs": [],
   "source": [
    "# GrLivArea is correlated with TotRmsAbvGr and 2ndFlrSF\n",
    "features.remove(\"TotRmsAbvGrd\")\n",
    "features.remove(\"2ndFlrSF\")\n",
    "\n",
    "# 1stFlSF is correlated with TotalBsmtSF\n",
    "features.remove(\"TotalBsmtSF\")\n"
   ]
  },
  {
   "cell_type": "code",
   "execution_count": 152,
   "id": "dc193df2",
   "metadata": {},
   "outputs": [
    {
     "data": {
      "text/plain": [
       "['1stFlrSF',\n",
       " 'LotArea',\n",
       " 'GrLivArea',\n",
       " 'GarageArea',\n",
       " 'BsmtUnfSF',\n",
       " 'LotFrontage',\n",
       " 'YearBuilt',\n",
       " 'MoSold',\n",
       " 'BsmtFinSF1',\n",
       " 'YearRemodAdd',\n",
       " 'OpenPorchSF',\n",
       " 'WoodDeckSF',\n",
       " 'YrSold',\n",
       " 'MasVnrArea',\n",
       " 'OverallQual',\n",
       " 'BedroomAbvGr',\n",
       " 'OverallCond']"
      ]
     },
     "execution_count": 152,
     "metadata": {},
     "output_type": "execute_result"
    }
   ],
   "source": [
    "features"
   ]
  },
  {
   "cell_type": "code",
   "execution_count": 153,
   "id": "4ae025a6",
   "metadata": {},
   "outputs": [],
   "source": [
    "x_train_1 = x_train[features]\n",
    "x_test_1 = x_test[features]\n"
   ]
  },
  {
   "cell_type": "code",
   "execution_count": 154,
   "id": "d7095f63",
   "metadata": {},
   "outputs": [
    {
     "name": "stdout",
     "output_type": "stream",
     "text": [
      "train error is  0.8346364059550262\n",
      "test error is  0.6180577387376862\n",
      "Root MSE: 31908.260137923375\n",
      "Root MSE: 51357.92004345377\n"
     ]
    }
   ],
   "source": [
    "from sklearn.linear_model import LinearRegression\n",
    "from sklearn.metrics import mean_squared_error, r2_score\n",
    "model = LinearRegression()\n",
    "model.fit(x_train_1,y_train)\n",
    "coeffs = pd.DataFrame(model.coef_, x_train_1.columns, columns=['Coefficient'])\n",
    "train_preds = model.predict(x_train_1)\n",
    "test_preds = model.predict(x_test_1)\n",
    "print('train error is ', model.score(x_train_1,y_train))\n",
    "print('test error is ', model.score(x_test_1,y_test))\n",
    "\n",
    "print('Root MSE:', np.sqrt(mean_squared_error(train_preds,y_train)))\n",
    "print('Root MSE:', np.sqrt(mean_squared_error(test_preds,y_test)))"
   ]
  },
  {
   "cell_type": "code",
   "execution_count": null,
   "id": "51a43d09",
   "metadata": {},
   "outputs": [],
   "source": []
  },
  {
   "cell_type": "code",
   "execution_count": 155,
   "id": "52c22760",
   "metadata": {},
   "outputs": [],
   "source": [
    "test_df[test_df.columns] =  scaler.transform(test_df)\n"
   ]
  },
  {
   "cell_type": "code",
   "execution_count": 160,
   "id": "f9d6e55f",
   "metadata": {},
   "outputs": [],
   "source": [
    "test_df = test_df[features]\n",
    "final_test_preds = model.predict(test_df)\n"
   ]
  },
  {
   "cell_type": "code",
   "execution_count": 170,
   "id": "0bb3c032",
   "metadata": {},
   "outputs": [],
   "source": [
    "final_test_preds = final_test_preds.round(decimals=2)\n"
   ]
  },
  {
   "cell_type": "code",
   "execution_count": 171,
   "id": "0361364b",
   "metadata": {},
   "outputs": [
    {
     "data": {
      "text/plain": [
       "array([128510.62, 179484.05, 181088.79, ..., 187678.47, 110384.45,\n",
       "       240336.94])"
      ]
     },
     "execution_count": 171,
     "metadata": {},
     "output_type": "execute_result"
    }
   ],
   "source": [
    "final_test_preds"
   ]
  },
  {
   "cell_type": "code",
   "execution_count": 172,
   "id": "f5c2c866",
   "metadata": {},
   "outputs": [],
   "source": [
    "result_df = pd.DataFrame(list(zip([i for i in range(1461,2920)],final_test_preds)),columns=['Id','SalePrice'])\n"
   ]
  },
  {
   "cell_type": "code",
   "execution_count": 177,
   "id": "436daee2",
   "metadata": {},
   "outputs": [],
   "source": [
    "result_df.to_csv(r'C:\\Users\\tdevanur\\Desktop\\results.csv', index = False, header=True)"
   ]
  },
  {
   "cell_type": "code",
   "execution_count": null,
   "id": "a8fd4052",
   "metadata": {},
   "outputs": [],
   "source": []
  }
 ],
 "metadata": {
  "kernelspec": {
   "display_name": "Python 3 (ipykernel)",
   "language": "python",
   "name": "python3"
  },
  "language_info": {
   "codemirror_mode": {
    "name": "ipython",
    "version": 3
   },
   "file_extension": ".py",
   "mimetype": "text/x-python",
   "name": "python",
   "nbconvert_exporter": "python",
   "pygments_lexer": "ipython3",
   "version": "3.9.7"
  }
 },
 "nbformat": 4,
 "nbformat_minor": 5
}
